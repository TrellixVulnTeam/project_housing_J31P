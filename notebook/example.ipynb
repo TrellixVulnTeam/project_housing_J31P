{
 "cells": [
  {
   "cell_type": "code",
   "execution_count": 1,
   "metadata": {},
   "outputs": [],
   "source": [
    "from collections import namedtuple"
   ]
  },
  {
   "cell_type": "markdown",
   "metadata": {},
   "source": [
    "1. Download  URL\n",
    "2. Download Folder (Compressed file)\n",
    "3. Extrect Folder (extrected file)\n",
    "4. Train Dataset Folder\n",
    "5. Test Dataset Folder"
   ]
  },
  {
   "cell_type": "code",
   "execution_count": 2,
   "metadata": {},
   "outputs": [],
   "source": [
    "DataIngestionConfig = namedtuple(\"DataIngestionConfig\",\n",
    "[\"data_download_url\",\"tgz_download_dir\",\"raw_data_dir\",\"ingested_train_dir\",\"ingested_test_dir\"])"
   ]
  },
  {
   "cell_type": "code",
   "execution_count": 3,
   "metadata": {},
   "outputs": [],
   "source": [
    "DataIngestionConfig = DataIngestionConfig(data_download_url=\"dhjfjdvb\",\n",
    "tgz_download_dir=\"skjfdh\",\n",
    "raw_data_dir=\"hjdgbj\",\n",
    "ingested_train_dir=\"jhgsjlef\",\n",
    "ingested_test_dir=\"nfbhblukhh\"\n",
    ")"
   ]
  },
  {
   "cell_type": "code",
   "execution_count": 4,
   "metadata": {},
   "outputs": [
    {
     "data": {
      "text/plain": [
       "DataIngestionConfig(data_download_url='dhjfjdvb', tgz_download_dir='skjfdh', raw_data_dir='hjdgbj', ingested_train_dir='jhgsjlef', ingested_test_dir='nfbhblukhh')"
      ]
     },
     "execution_count": 4,
     "metadata": {},
     "output_type": "execute_result"
    }
   ],
   "source": [
    "DataIngestionConfig"
   ]
  },
  {
   "cell_type": "code",
   "execution_count": null,
   "metadata": {},
   "outputs": [],
   "source": []
  }
 ],
 "metadata": {
  "kernelspec": {
   "display_name": "Python 3.7.0",
   "language": "python",
   "name": "python3"
  },
  "language_info": {
   "codemirror_mode": {
    "name": "ipython",
    "version": 3
   },
   "file_extension": ".py",
   "mimetype": "text/x-python",
   "name": "python",
   "nbconvert_exporter": "python",
   "pygments_lexer": "ipython3",
   "version": "3.7.0"
  },
  "orig_nbformat": 4,
  "vscode": {
   "interpreter": {
    "hash": "7555e2877f54040a08ef6be8ed5e79366a1fc5d5f46da09961fec0322b3101f1"
   }
  }
 },
 "nbformat": 4,
 "nbformat_minor": 2
}
