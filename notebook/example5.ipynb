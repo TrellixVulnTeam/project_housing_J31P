{
 "cells": [
  {
   "cell_type": "code",
   "execution_count": 1,
   "metadata": {},
   "outputs": [],
   "source": [
    "import os"
   ]
  },
  {
   "cell_type": "code",
   "execution_count": 2,
   "metadata": {},
   "outputs": [
    {
     "data": {
      "text/plain": [
       "'d:\\\\ML Projects\\\\project_housing\\\\notebook'"
      ]
     },
     "execution_count": 2,
     "metadata": {},
     "output_type": "execute_result"
    }
   ],
   "source": [
    "os.getcwd()"
   ]
  },
  {
   "cell_type": "code",
   "execution_count": 3,
   "metadata": {},
   "outputs": [],
   "source": [
    "os.chdir(\"d:\\\\ML Projects\\\\project_housing\")"
   ]
  },
  {
   "cell_type": "code",
   "execution_count": 4,
   "metadata": {},
   "outputs": [],
   "source": [
    "from housing.config.configuration import Configuration"
   ]
  },
  {
   "cell_type": "code",
   "execution_count": 5,
   "metadata": {},
   "outputs": [],
   "source": [
    "config = Configuration()"
   ]
  },
  {
   "cell_type": "code",
   "execution_count": 6,
   "metadata": {},
   "outputs": [],
   "source": [
    "data_ingestion_config = config.get_data_ingestion_config()"
   ]
  },
  {
   "cell_type": "code",
   "execution_count": 7,
   "metadata": {},
   "outputs": [],
   "source": [
    "data_valiadtion_config = config.get_data_validation_config()"
   ]
  },
  {
   "cell_type": "code",
   "execution_count": 8,
   "metadata": {},
   "outputs": [
    {
     "data": {
      "text/plain": [
       "DataValidationConfig(schema_file_path='d:\\\\ML Projects\\\\project_housing\\\\config\\\\schema.yaml', report_file_path='d:\\\\ML Projects\\\\project_housing\\\\housing\\\\artifact\\\\data_validation\\\\2022-07-13-19-33-45\\\\report.json', report_page_file_path='d:\\\\ML Projects\\\\project_housing\\\\housing\\\\artifact\\\\data_validation\\\\2022-07-13-19-33-45\\\\report.html')"
      ]
     },
     "execution_count": 8,
     "metadata": {},
     "output_type": "execute_result"
    }
   ],
   "source": [
    "data_valiadtion_config"
   ]
  },
  {
   "cell_type": "code",
   "execution_count": 9,
   "metadata": {},
   "outputs": [],
   "source": [
    "data_transformation_config = config.get_data_transformation_config()"
   ]
  },
  {
   "cell_type": "code",
   "execution_count": 10,
   "metadata": {},
   "outputs": [
    {
     "data": {
      "text/plain": [
       "DataTransformationConfig(add_bedroom_per_room=True, transformed_train_dir='d:\\\\ML Projects\\\\project_housing\\\\housing\\\\artifact\\\\data_transformation\\\\2022-07-13-19-33-45\\\\transformed_data\\\\train', transform_test_dir='d:\\\\ML Projects\\\\project_housing\\\\housing\\\\artifact\\\\data_transformation\\\\2022-07-13-19-33-45\\\\transformed_data\\\\test', preprocessed_object_fle_path='d:\\\\ML Projects\\\\project_housing\\\\housing\\\\artifact\\\\data_transformation\\\\2022-07-13-19-33-45\\\\preprocessed\\\\preprocessed.pkl')"
      ]
     },
     "execution_count": 10,
     "metadata": {},
     "output_type": "execute_result"
    }
   ],
   "source": [
    "data_transformation_config"
   ]
  },
  {
   "cell_type": "code",
   "execution_count": 11,
   "metadata": {},
   "outputs": [],
   "source": [
    "from housing.component.data_ingestion import DataIngeston"
   ]
  },
  {
   "cell_type": "code",
   "execution_count": 12,
   "metadata": {},
   "outputs": [],
   "source": [
    "data_ingestion =  DataIngeston(data_ingestion_config=data_ingestion_config)"
   ]
  },
  {
   "cell_type": "code",
   "execution_count": 13,
   "metadata": {},
   "outputs": [],
   "source": [
    "data_ingestion_artifact = data_ingestion.initiate_data_ingestion()"
   ]
  },
  {
   "cell_type": "code",
   "execution_count": 15,
   "metadata": {},
   "outputs": [
    {
     "data": {
      "text/plain": [
       "DataIngestionArtifact(train_file_path='d:\\\\ML Projects\\\\project_housing\\\\housing\\\\artifact\\\\data_ingestion\\\\2022-07-13-19-33-45\\\\ingested_data\\\\train\\\\housing.csv', test_file_path='d:\\\\ML Projects\\\\project_housing\\\\housing\\\\artifact\\\\data_ingestion\\\\2022-07-13-19-33-45\\\\ingested_data\\\\test\\\\housing.csv', is_ingested=True, message='Data Ingestion Completed Successfully')"
      ]
     },
     "execution_count": 15,
     "metadata": {},
     "output_type": "execute_result"
    }
   ],
   "source": [
    "data_ingestion_artifact"
   ]
  },
  {
   "cell_type": "code",
   "execution_count": 16,
   "metadata": {},
   "outputs": [],
   "source": [
    "from housing.component.data_validation import DataValidation"
   ]
  },
  {
   "cell_type": "code",
   "execution_count": 18,
   "metadata": {},
   "outputs": [],
   "source": [
    "data_validation = DataValidation(data_valiadtion_config,data_ingestion_artifact)"
   ]
  },
  {
   "cell_type": "code",
   "execution_count": 19,
   "metadata": {},
   "outputs": [],
   "source": [
    "data_validation_artifact = data_validation.initiate_data_validation()"
   ]
  },
  {
   "cell_type": "code",
   "execution_count": 20,
   "metadata": {},
   "outputs": [
    {
     "data": {
      "text/plain": [
       "DataValidationArifact(schema_file_path='d:\\\\ML Projects\\\\project_housing\\\\config\\\\schema.yaml', report_file_path='d:\\\\ML Projects\\\\project_housing\\\\housing\\\\artifact\\\\data_validation\\\\2022-07-13-19-33-45\\\\report.json', report_page_file_path='d:\\\\ML Projects\\\\project_housing\\\\housing\\\\artifact\\\\data_validation\\\\2022-07-13-19-33-45\\\\report.html', is_validated=True, message='Data Validation Performed Successfuly')"
      ]
     },
     "execution_count": 20,
     "metadata": {},
     "output_type": "execute_result"
    }
   ],
   "source": [
    "data_validation_artifact"
   ]
  },
  {
   "cell_type": "code",
   "execution_count": 21,
   "metadata": {},
   "outputs": [],
   "source": [
    "from housing.component.data_transformation import DataTransformation"
   ]
  },
  {
   "cell_type": "code",
   "execution_count": 23,
   "metadata": {},
   "outputs": [],
   "source": [
    "data_transformation = DataTransformation(data_transformation_config,data_ingestion_artifact,data_validation_artifact)"
   ]
  },
  {
   "cell_type": "code",
   "execution_count": 24,
   "metadata": {},
   "outputs": [],
   "source": [
    "data_transformation_artifact = data_transformation.initiate_data_transformation()"
   ]
  },
  {
   "cell_type": "code",
   "execution_count": 25,
   "metadata": {},
   "outputs": [
    {
     "data": {
      "text/plain": [
       "DataTransformationArtifact(is_transformed=True, message='Data transformation successfull.', transformed_train_file_path='d:\\\\ML Projects\\\\project_housing\\\\housing\\\\artifact\\\\data_transformation\\\\2022-07-13-19-33-45\\\\transformed_data\\\\train\\\\housing.npz', transformed_test_file_path='d:\\\\ML Projects\\\\project_housing\\\\housing\\\\artifact\\\\data_transformation\\\\2022-07-13-19-33-45\\\\transformed_data\\\\test\\\\housing.npz', preprocessed_object_file_path='d:\\\\ML Projects\\\\project_housing\\\\housing\\\\artifact\\\\data_transformation\\\\2022-07-13-19-33-45\\\\preprocessed\\\\preprocessed.pkl')"
      ]
     },
     "execution_count": 25,
     "metadata": {},
     "output_type": "execute_result"
    }
   ],
   "source": [
    "data_transformation_artifact"
   ]
  },
  {
   "cell_type": "code",
   "execution_count": null,
   "metadata": {},
   "outputs": [],
   "source": []
  }
 ],
 "metadata": {
  "kernelspec": {
   "display_name": "Python 3.7.2 64-bit ('venv')",
   "language": "python",
   "name": "python3"
  },
  "language_info": {
   "codemirror_mode": {
    "name": "ipython",
    "version": 3
   },
   "file_extension": ".py",
   "mimetype": "text/x-python",
   "name": "python",
   "nbconvert_exporter": "python",
   "pygments_lexer": "ipython3",
   "version": "3.7.2"
  },
  "orig_nbformat": 4,
  "vscode": {
   "interpreter": {
    "hash": "601771e73f382ccdc0215f52cde257342276a48a0872ce55766ab97579a1eb1a"
   }
  }
 },
 "nbformat": 4,
 "nbformat_minor": 2
}
